{
 "cells": [
  {
   "cell_type": "code",
   "execution_count": 1,
   "metadata": {},
   "outputs": [
    {
     "name": "stderr",
     "output_type": "stream",
     "text": [
      "2023-08-21 18:29:18.185567: I tensorflow/tsl/cuda/cudart_stub.cc:28] Could not find cuda drivers on your machine, GPU will not be used.\n",
      "2023-08-21 18:29:19.022681: I tensorflow/tsl/cuda/cudart_stub.cc:28] Could not find cuda drivers on your machine, GPU will not be used.\n",
      "2023-08-21 18:29:19.025421: I tensorflow/core/platform/cpu_feature_guard.cc:182] This TensorFlow binary is optimized to use available CPU instructions in performance-critical operations.\n",
      "To enable the following instructions: AVX2 FMA, in other operations, rebuild TensorFlow with the appropriate compiler flags.\n",
      "2023-08-21 18:29:22.360592: W tensorflow/compiler/tf2tensorrt/utils/py_utils.cc:38] TF-TRT Warning: Could not find TensorRT\n"
     ]
    },
    {
     "name": "stdout",
     "output_type": "stream",
     "text": [
      "tf_version: 2.13.0\n"
     ]
    }
   ],
   "source": [
    "import tensorflow as tf\n",
    "from keras.models import Sequential\n",
    "from keras.layers import Dense, InputLayer\n",
    "from keras.optimizers import Adam\n",
    "\n",
    "import pandas as pd\n",
    "import numpy as np\n",
    "import matplotlib.pyplot as plt\n",
    "import copy as cp\n",
    "from sklearn.metrics import r2_score\n",
    "\n",
    "print(f'tf_version: {tf.__version__}')"
   ]
  },
  {
   "attachments": {},
   "cell_type": "markdown",
   "metadata": {},
   "source": [
    "## Data Analysis"
   ]
  },
  {
   "cell_type": "code",
   "execution_count": 2,
   "metadata": {},
   "outputs": [
    {
     "data": {
      "text/html": [
       "<div>\n",
       "<style scoped>\n",
       "    .dataframe tbody tr th:only-of-type {\n",
       "        vertical-align: middle;\n",
       "    }\n",
       "\n",
       "    .dataframe tbody tr th {\n",
       "        vertical-align: top;\n",
       "    }\n",
       "\n",
       "    .dataframe thead th {\n",
       "        text-align: right;\n",
       "    }\n",
       "</style>\n",
       "<table border=\"1\" class=\"dataframe\">\n",
       "  <thead>\n",
       "    <tr style=\"text-align: right;\">\n",
       "      <th></th>\n",
       "      <th>price</th>\n",
       "      <th>area</th>\n",
       "      <th>bedrooms</th>\n",
       "      <th>bathrooms</th>\n",
       "      <th>stories</th>\n",
       "      <th>mainroad</th>\n",
       "      <th>guestroom</th>\n",
       "      <th>basement</th>\n",
       "      <th>hotwaterheating</th>\n",
       "      <th>airconditioning</th>\n",
       "      <th>parking</th>\n",
       "      <th>prefarea</th>\n",
       "      <th>furnishingstatus</th>\n",
       "    </tr>\n",
       "  </thead>\n",
       "  <tbody>\n",
       "    <tr>\n",
       "      <th>0</th>\n",
       "      <td>13300000</td>\n",
       "      <td>7420</td>\n",
       "      <td>4</td>\n",
       "      <td>2</td>\n",
       "      <td>3</td>\n",
       "      <td>yes</td>\n",
       "      <td>no</td>\n",
       "      <td>no</td>\n",
       "      <td>no</td>\n",
       "      <td>yes</td>\n",
       "      <td>2</td>\n",
       "      <td>yes</td>\n",
       "      <td>furnished</td>\n",
       "    </tr>\n",
       "    <tr>\n",
       "      <th>1</th>\n",
       "      <td>12250000</td>\n",
       "      <td>8960</td>\n",
       "      <td>4</td>\n",
       "      <td>4</td>\n",
       "      <td>4</td>\n",
       "      <td>yes</td>\n",
       "      <td>no</td>\n",
       "      <td>no</td>\n",
       "      <td>no</td>\n",
       "      <td>yes</td>\n",
       "      <td>3</td>\n",
       "      <td>no</td>\n",
       "      <td>furnished</td>\n",
       "    </tr>\n",
       "    <tr>\n",
       "      <th>2</th>\n",
       "      <td>12250000</td>\n",
       "      <td>9960</td>\n",
       "      <td>3</td>\n",
       "      <td>2</td>\n",
       "      <td>2</td>\n",
       "      <td>yes</td>\n",
       "      <td>no</td>\n",
       "      <td>yes</td>\n",
       "      <td>no</td>\n",
       "      <td>no</td>\n",
       "      <td>2</td>\n",
       "      <td>yes</td>\n",
       "      <td>semi-furnished</td>\n",
       "    </tr>\n",
       "    <tr>\n",
       "      <th>3</th>\n",
       "      <td>12215000</td>\n",
       "      <td>7500</td>\n",
       "      <td>4</td>\n",
       "      <td>2</td>\n",
       "      <td>2</td>\n",
       "      <td>yes</td>\n",
       "      <td>no</td>\n",
       "      <td>yes</td>\n",
       "      <td>no</td>\n",
       "      <td>yes</td>\n",
       "      <td>3</td>\n",
       "      <td>yes</td>\n",
       "      <td>furnished</td>\n",
       "    </tr>\n",
       "    <tr>\n",
       "      <th>4</th>\n",
       "      <td>11410000</td>\n",
       "      <td>7420</td>\n",
       "      <td>4</td>\n",
       "      <td>1</td>\n",
       "      <td>2</td>\n",
       "      <td>yes</td>\n",
       "      <td>yes</td>\n",
       "      <td>yes</td>\n",
       "      <td>no</td>\n",
       "      <td>yes</td>\n",
       "      <td>2</td>\n",
       "      <td>no</td>\n",
       "      <td>furnished</td>\n",
       "    </tr>\n",
       "  </tbody>\n",
       "</table>\n",
       "</div>"
      ],
      "text/plain": [
       "      price  area  bedrooms  bathrooms  stories mainroad guestroom basement  \\\n",
       "0  13300000  7420         4          2        3      yes        no       no   \n",
       "1  12250000  8960         4          4        4      yes        no       no   \n",
       "2  12250000  9960         3          2        2      yes        no      yes   \n",
       "3  12215000  7500         4          2        2      yes        no      yes   \n",
       "4  11410000  7420         4          1        2      yes       yes      yes   \n",
       "\n",
       "  hotwaterheating airconditioning  parking prefarea furnishingstatus  \n",
       "0              no             yes        2      yes        furnished  \n",
       "1              no             yes        3       no        furnished  \n",
       "2              no              no        2      yes   semi-furnished  \n",
       "3              no             yes        3      yes        furnished  \n",
       "4              no             yes        2       no        furnished  "
      ]
     },
     "metadata": {},
     "output_type": "display_data"
    },
    {
     "name": "stdout",
     "output_type": "stream",
     "text": [
      "x_train shape: (545, 5) \t y_train shape: (545, 1)\n"
     ]
    }
   ],
   "source": [
    "# Loading the dataset\n",
    "original_df = pd.read_csv('./data/CaliforniaHousing.csv', sep=',')\n",
    "df = cp.deepcopy(original_df)\n",
    "display(df.head())\n",
    "\n",
    "target = 'price'\n",
    "features = [i for i in df.columns if i not in target]\n",
    "\n",
    "x_train_df = df[['area', 'bedrooms', 'bathrooms', 'stories', 'parking']]\n",
    "x_train_np = x_train_df.to_numpy()\n",
    "y_train_np = df[target].to_numpy().reshape(-1,1)\n",
    "print(f'x_train shape: {x_train_np.shape} \\t y_train shape: {y_train_np.shape}')"
   ]
  },
  {
   "attachments": {},
   "cell_type": "markdown",
   "metadata": {},
   "source": [
    "## Data Preprocessing"
   ]
  },
  {
   "cell_type": "markdown",
   "metadata": {},
   "source": [
    "### Feature Scalling\n",
    "In order to make the training algorithm faster, we normalize the inputs using Keras Normalization layer"
   ]
  },
  {
   "cell_type": "code",
   "execution_count": 3,
   "metadata": {},
   "outputs": [
    {
     "name": "stdout",
     "output_type": "stream",
     "text": [
      "Before Normalization:\n",
      "Peak-to-peak x_train: [14550     5     3     3     3]\n"
     ]
    },
    {
     "data": {
      "text/html": [
       "<div>\n",
       "<style scoped>\n",
       "    .dataframe tbody tr th:only-of-type {\n",
       "        vertical-align: middle;\n",
       "    }\n",
       "\n",
       "    .dataframe tbody tr th {\n",
       "        vertical-align: top;\n",
       "    }\n",
       "\n",
       "    .dataframe thead th {\n",
       "        text-align: right;\n",
       "    }\n",
       "</style>\n",
       "<table border=\"1\" class=\"dataframe\">\n",
       "  <thead>\n",
       "    <tr style=\"text-align: right;\">\n",
       "      <th></th>\n",
       "      <th>area</th>\n",
       "      <th>bedrooms</th>\n",
       "      <th>bathrooms</th>\n",
       "      <th>stories</th>\n",
       "      <th>parking</th>\n",
       "    </tr>\n",
       "  </thead>\n",
       "  <tbody>\n",
       "    <tr>\n",
       "      <th>count</th>\n",
       "      <td>545.000000</td>\n",
       "      <td>545.000000</td>\n",
       "      <td>545.000000</td>\n",
       "      <td>545.000000</td>\n",
       "      <td>545.000000</td>\n",
       "    </tr>\n",
       "    <tr>\n",
       "      <th>mean</th>\n",
       "      <td>5150.541284</td>\n",
       "      <td>2.965138</td>\n",
       "      <td>1.286239</td>\n",
       "      <td>1.805505</td>\n",
       "      <td>0.693578</td>\n",
       "    </tr>\n",
       "    <tr>\n",
       "      <th>std</th>\n",
       "      <td>2170.141023</td>\n",
       "      <td>0.738064</td>\n",
       "      <td>0.502470</td>\n",
       "      <td>0.867492</td>\n",
       "      <td>0.861586</td>\n",
       "    </tr>\n",
       "    <tr>\n",
       "      <th>min</th>\n",
       "      <td>1650.000000</td>\n",
       "      <td>1.000000</td>\n",
       "      <td>1.000000</td>\n",
       "      <td>1.000000</td>\n",
       "      <td>0.000000</td>\n",
       "    </tr>\n",
       "    <tr>\n",
       "      <th>25%</th>\n",
       "      <td>3600.000000</td>\n",
       "      <td>2.000000</td>\n",
       "      <td>1.000000</td>\n",
       "      <td>1.000000</td>\n",
       "      <td>0.000000</td>\n",
       "    </tr>\n",
       "    <tr>\n",
       "      <th>50%</th>\n",
       "      <td>4600.000000</td>\n",
       "      <td>3.000000</td>\n",
       "      <td>1.000000</td>\n",
       "      <td>2.000000</td>\n",
       "      <td>0.000000</td>\n",
       "    </tr>\n",
       "    <tr>\n",
       "      <th>75%</th>\n",
       "      <td>6360.000000</td>\n",
       "      <td>3.000000</td>\n",
       "      <td>2.000000</td>\n",
       "      <td>2.000000</td>\n",
       "      <td>1.000000</td>\n",
       "    </tr>\n",
       "    <tr>\n",
       "      <th>max</th>\n",
       "      <td>16200.000000</td>\n",
       "      <td>6.000000</td>\n",
       "      <td>4.000000</td>\n",
       "      <td>4.000000</td>\n",
       "      <td>3.000000</td>\n",
       "    </tr>\n",
       "  </tbody>\n",
       "</table>\n",
       "</div>"
      ],
      "text/plain": [
       "               area    bedrooms   bathrooms     stories     parking\n",
       "count    545.000000  545.000000  545.000000  545.000000  545.000000\n",
       "mean    5150.541284    2.965138    1.286239    1.805505    0.693578\n",
       "std     2170.141023    0.738064    0.502470    0.867492    0.861586\n",
       "min     1650.000000    1.000000    1.000000    1.000000    0.000000\n",
       "25%     3600.000000    2.000000    1.000000    1.000000    0.000000\n",
       "50%     4600.000000    3.000000    1.000000    2.000000    0.000000\n",
       "75%     6360.000000    3.000000    2.000000    2.000000    1.000000\n",
       "max    16200.000000    6.000000    4.000000    4.000000    3.000000"
      ]
     },
     "metadata": {},
     "output_type": "display_data"
    },
    {
     "name": "stdout",
     "output_type": "stream",
     "text": [
      "\n",
      "After Normalization:\n",
      "Peak-to-peak x_train: [6.7107935 6.7807055 5.9759965 3.4614208 3.4851508]\n"
     ]
    },
    {
     "data": {
      "text/html": [
       "<div>\n",
       "<style scoped>\n",
       "    .dataframe tbody tr th:only-of-type {\n",
       "        vertical-align: middle;\n",
       "    }\n",
       "\n",
       "    .dataframe tbody tr th {\n",
       "        vertical-align: top;\n",
       "    }\n",
       "\n",
       "    .dataframe thead th {\n",
       "        text-align: right;\n",
       "    }\n",
       "</style>\n",
       "<table border=\"1\" class=\"dataframe\">\n",
       "  <thead>\n",
       "    <tr style=\"text-align: right;\">\n",
       "      <th></th>\n",
       "      <th>area</th>\n",
       "      <th>bedrooms</th>\n",
       "      <th>bathrooms</th>\n",
       "      <th>stories</th>\n",
       "      <th>parking</th>\n",
       "    </tr>\n",
       "  </thead>\n",
       "  <tbody>\n",
       "    <tr>\n",
       "      <th>count</th>\n",
       "      <td>5.450000e+02</td>\n",
       "      <td>5.450000e+02</td>\n",
       "      <td>5.450000e+02</td>\n",
       "      <td>5.450000e+02</td>\n",
       "      <td>5.450000e+02</td>\n",
       "    </tr>\n",
       "    <tr>\n",
       "      <th>mean</th>\n",
       "      <td>-8.399333e-08</td>\n",
       "      <td>-1.259900e-07</td>\n",
       "      <td>1.959844e-07</td>\n",
       "      <td>1.539878e-07</td>\n",
       "      <td>-2.799778e-08</td>\n",
       "    </tr>\n",
       "    <tr>\n",
       "      <th>std</th>\n",
       "      <td>1.000919e+00</td>\n",
       "      <td>1.000919e+00</td>\n",
       "      <td>1.000919e+00</td>\n",
       "      <td>1.000919e+00</td>\n",
       "      <td>1.000919e+00</td>\n",
       "    </tr>\n",
       "    <tr>\n",
       "      <th>min</th>\n",
       "      <td>-1.614530e+00</td>\n",
       "      <td>-2.665004e+00</td>\n",
       "      <td>-5.701866e-01</td>\n",
       "      <td>-9.293966e-01</td>\n",
       "      <td>-8.057413e-01</td>\n",
       "    </tr>\n",
       "    <tr>\n",
       "      <th>25%</th>\n",
       "      <td>-7.151452e-01</td>\n",
       "      <td>-1.308863e+00</td>\n",
       "      <td>-5.701866e-01</td>\n",
       "      <td>-9.293966e-01</td>\n",
       "      <td>-8.057413e-01</td>\n",
       "    </tr>\n",
       "    <tr>\n",
       "      <th>50%</th>\n",
       "      <td>-2.539223e-01</td>\n",
       "      <td>4.727817e-02</td>\n",
       "      <td>-5.701866e-01</td>\n",
       "      <td>2.244103e-01</td>\n",
       "      <td>-8.057413e-01</td>\n",
       "    </tr>\n",
       "    <tr>\n",
       "      <th>75%</th>\n",
       "      <td>5.578299e-01</td>\n",
       "      <td>4.727817e-02</td>\n",
       "      <td>1.421812e+00</td>\n",
       "      <td>2.244103e-01</td>\n",
       "      <td>3.559756e-01</td>\n",
       "    </tr>\n",
       "    <tr>\n",
       "      <th>max</th>\n",
       "      <td>5.096263e+00</td>\n",
       "      <td>4.115701e+00</td>\n",
       "      <td>5.405810e+00</td>\n",
       "      <td>2.532024e+00</td>\n",
       "      <td>2.679410e+00</td>\n",
       "    </tr>\n",
       "  </tbody>\n",
       "</table>\n",
       "</div>"
      ],
      "text/plain": [
       "               area      bedrooms     bathrooms       stories       parking\n",
       "count  5.450000e+02  5.450000e+02  5.450000e+02  5.450000e+02  5.450000e+02\n",
       "mean  -8.399333e-08 -1.259900e-07  1.959844e-07  1.539878e-07 -2.799778e-08\n",
       "std    1.000919e+00  1.000919e+00  1.000919e+00  1.000919e+00  1.000919e+00\n",
       "min   -1.614530e+00 -2.665004e+00 -5.701866e-01 -9.293966e-01 -8.057413e-01\n",
       "25%   -7.151452e-01 -1.308863e+00 -5.701866e-01 -9.293966e-01 -8.057413e-01\n",
       "50%   -2.539223e-01  4.727817e-02 -5.701866e-01  2.244103e-01 -8.057413e-01\n",
       "75%    5.578299e-01  4.727817e-02  1.421812e+00  2.244103e-01  3.559756e-01\n",
       "max    5.096263e+00  4.115701e+00  5.405810e+00  2.532024e+00  2.679410e+00"
      ]
     },
     "metadata": {},
     "output_type": "display_data"
    }
   ],
   "source": [
    "print('Before Normalization:')\n",
    "print(f'Peak-to-peak x_train: {np.ptp(x_train_np, axis=0)}')\n",
    "display(pd.DataFrame(x_train_np, columns=x_train_df.columns).describe())\n",
    "\n",
    "# Creating the normalization layer\n",
    "norm_1 = tf.keras.layers.Normalization(axis=-1) \n",
    "# Does the same as passing mean and variance in layer construction\n",
    "norm_1.adapt(x_train_np) \n",
    "\n",
    "# Foward propagating x_train\n",
    "x_train_norm = norm_1(x_train_np)\n",
    "\n",
    "print('\\nAfter Normalization:')\n",
    "print(f'Peak-to-peak x_train: {np.ptp(x_train_norm, axis=0)}')\n",
    "display(pd.DataFrame(x_train_norm, columns=x_train_df.columns).describe())"
   ]
  },
  {
   "attachments": {},
   "cell_type": "markdown",
   "metadata": {},
   "source": [
    "### Tiling\n",
    "\n",
    "Tile/copy our data to increase the training set size and reduce the number of training epochs."
   ]
  },
  {
   "cell_type": "code",
   "execution_count": 4,
   "metadata": {},
   "outputs": [
    {
     "name": "stdout",
     "output_type": "stream",
     "text": [
      "x_train shape before: (545, 5)\n",
      "x_train shape after: (54500, 5)\n"
     ]
    }
   ],
   "source": [
    "x_train = np.tile(x_train_norm, (100, 1)) # Repeat 1000 times the rows while keeping the columns.\n",
    "y_train = np.tile(y_train_np, (100, 1))\n",
    "\n",
    "print(f'x_train shape before: {x_train_norm.shape}')\n",
    "print(f'x_train shape after: {x_train.shape}')"
   ]
  },
  {
   "attachments": {},
   "cell_type": "markdown",
   "metadata": {},
   "source": [
    "## Model Training"
   ]
  },
  {
   "attachments": {},
   "cell_type": "markdown",
   "metadata": {},
   "source": [
    "### Perceptron Training"
   ]
  },
  {
   "attachments": {},
   "cell_type": "markdown",
   "metadata": {},
   "source": [
    "![Alt text](images/perceptron.png)\n",
    "\n",
    "The function implemented by a neuron with no activation is the same as linear regression:\n",
    "\n",
    "![Alt text](images/linearfunction.png)"
   ]
  },
  {
   "cell_type": "code",
   "execution_count": 7,
   "metadata": {},
   "outputs": [
    {
     "name": "stdout",
     "output_type": "stream",
     "text": [
      "Model: \"Linear_Model\"\n",
      "_________________________________________________________________\n",
      " Layer (type)                Output Shape              Param #   \n",
      "=================================================================\n",
      " layer_1 (Dense)             (None, 1)                 6         \n",
      "                                                                 \n",
      "=================================================================\n",
      "Total params: 6 (24.00 Byte)\n",
      "Trainable params: 6 (24.00 Byte)\n",
      "Non-trainable params: 0 (0.00 Byte)\n",
      "_________________________________________________________________\n"
     ]
    },
    {
     "data": {
      "text/plain": [
       "None"
      ]
     },
     "metadata": {},
     "output_type": "display_data"
    },
    {
     "name": "stdout",
     "output_type": "stream",
     "text": [
      "Initialized weights: \n",
      "\n",
      "W1(5, 1):\n",
      " [[-0.93486285]\n",
      " [ 0.23711252]\n",
      " [-0.58544755]\n",
      " [-0.30329227]\n",
      " [-0.6100495 ]] \n",
      "b1(1,): [0.] \n",
      "\n"
     ]
    }
   ],
   "source": [
    "tf.random.set_seed(100) # applied to achieve consistent results \n",
    "\n",
    "# Creates a linear neural network with 3 hidden layers \n",
    "L_0 = InputLayer(input_shape=[x_train.shape[1],]) # This layer can be omitted \n",
    "L_1 = Dense(units=1, activation='linear', name='layer_1')\n",
    "\n",
    "nn_linear = Sequential([L_0, L_1], name='Linear_Model')\n",
    "\n",
    "display(nn_linear.summary()) # The parameter counts correspond to the number of elements in the weight and bias.\n",
    "\n",
    "W1, b1 = nn_linear.get_layer(\"layer_1\").get_weights()\n",
    "print('Initialized weights: \\n')\n",
    "print(f\"W1{W1.shape}:\\n\", W1, f\"\\nb1{b1.shape}:\", b1, '\\n')"
   ]
  },
  {
   "cell_type": "code",
   "execution_count": 8,
   "metadata": {},
   "outputs": [
    {
     "name": "stdout",
     "output_type": "stream",
     "text": [
      "Epoch 1/20\n",
      "1704/1704 [==============================] - 5s 2ms/step - loss: 13031592427520.0000\n",
      "Epoch 2/20\n",
      "1704/1704 [==============================] - 2s 1ms/step - loss: 2826081665024.0000\n",
      "Epoch 3/20\n",
      "1704/1704 [==============================] - 2s 1ms/step - loss: 1557503803392.0000\n",
      "Epoch 4/20\n",
      "1704/1704 [==============================] - 2s 1ms/step - loss: 1532513615872.0000\n",
      "Epoch 5/20\n",
      "1704/1704 [==============================] - 2s 1ms/step - loss: 1532240592896.0000\n",
      "Epoch 6/20\n",
      "1704/1704 [==============================] - 2s 1ms/step - loss: 1532969615360.0000\n",
      "Epoch 7/20\n",
      "1704/1704 [==============================] - 2s 1ms/step - loss: 1532331950080.0000\n",
      "Epoch 8/20\n",
      "1704/1704 [==============================] - 2s 1ms/step - loss: 1532750069760.0000\n",
      "Epoch 9/20\n",
      "1704/1704 [==============================] - 2s 1ms/step - loss: 1532550578176.0000\n",
      "Epoch 10/20\n",
      "1704/1704 [==============================] - 2s 1ms/step - loss: 1532750462976.0000\n",
      "Epoch 11/20\n",
      "1704/1704 [==============================] - 2s 1ms/step - loss: 1532968566784.0000\n",
      "Epoch 12/20\n",
      "1704/1704 [==============================] - 2s 1ms/step - loss: 1532540354560.0000\n",
      "Epoch 13/20\n",
      "1704/1704 [==============================] - 2s 1ms/step - loss: 1532625158144.0000\n",
      "Epoch 14/20\n",
      "1704/1704 [==============================] - 2s 1ms/step - loss: 1532536815616.0000\n",
      "Epoch 15/20\n",
      "1704/1704 [==============================] - 2s 1ms/step - loss: 1532757671936.0000\n",
      "Epoch 16/20\n",
      "1704/1704 [==============================] - 2s 1ms/step - loss: 1532753084416.0000\n",
      "Epoch 17/20\n",
      "1704/1704 [==============================] - 2s 1ms/step - loss: 1532516630528.0000\n",
      "Epoch 18/20\n",
      "1704/1704 [==============================] - 2s 1ms/step - loss: 1532847980544.0000\n",
      "Epoch 19/20\n",
      "1704/1704 [==============================] - 2s 1ms/step - loss: 1532583346176.0000\n",
      "Epoch 20/20\n",
      "1704/1704 [==============================] - 2s 1ms/step - loss: 1533079715840.0000\n"
     ]
    },
    {
     "data": {
      "text/plain": [
       "<keras.src.callbacks.History at 0x7f35082fd010>"
      ]
     },
     "execution_count": 8,
     "metadata": {},
     "output_type": "execute_result"
    }
   ],
   "source": [
    "# Defines loss function and optimizer\n",
    "nn_linear.compile( \n",
    "    loss = 'mean_squared_error',\n",
    "    optimizer = Adam(learning_rate=2000),\n",
    ")\n",
    "\n",
    "# Runs gradient descent and fits the weights to the data\n",
    "nn_linear.fit(\n",
    "    x_train,y_train,            \n",
    "    epochs=20,\n",
    ")\n",
    "\n",
    "# Learning_rate had to be set to 2000 due to slow conversion in the first tests"
   ]
  },
  {
   "attachments": {},
   "cell_type": "markdown",
   "metadata": {},
   "source": [
    "Comparisson with the linear regression model:\n",
    "\n",
    "![Alt text](images/comparissonLinearNN.png)"
   ]
  },
  {
   "cell_type": "code",
   "execution_count": 9,
   "metadata": {},
   "outputs": [
    {
     "name": "stdout",
     "output_type": "stream",
     "text": [
      "Found w, b:  [array([[726110.75],\n",
      "       [140668.27],\n",
      "       [576362.2 ],\n",
      "       [478325.6 ],\n",
      "       [333400.56]], dtype=float32), array([4779047.], dtype=float32)]\n"
     ]
    }
   ],
   "source": [
    "print('Found w, b: ', nn_linear.get_layer('layer_1').get_weights())"
   ]
  },
  {
   "cell_type": "code",
   "execution_count": 10,
   "metadata": {},
   "outputs": [
    {
     "name": "stdout",
     "output_type": "stream",
     "text": [
      "18/18 [==============================] - 0s 1ms/step\n",
      "Prediction on training set: \n",
      " [[ 7721217.5]\n",
      " [11472400. ]\n",
      " [ 7829199. ]\n",
      " [ 7583431. ]\n",
      " [ 6021209.5]] \n",
      "\n",
      "Target values: \n",
      " [[13300000]\n",
      " [12250000]\n",
      " [12250000]\n",
      " [12215000]\n",
      " [11410000]] \n",
      "\n",
      "Model accuracy (delta <= 1e6): 0.653211\n",
      "R2 Score: 0.5613030382491717\n",
      "\n"
     ]
    }
   ],
   "source": [
    "p_linear = nn_linear.predict(x_train_norm)\n",
    "print('Prediction on training set: \\n', p_linear[:5,:], '\\n')\n",
    "print('Target values: \\n', y_train_np[:5,:], '\\n')\n",
    "print('Model accuracy (delta <= 1e6): %f'%(np.mean(np.abs(p_linear - y_train_np) <= 1000000)))\n",
    "print(f'R2 Score: {r2_score(y_train_np, p_linear)}\\n')"
   ]
  },
  {
   "attachments": {},
   "cell_type": "markdown",
   "metadata": {},
   "source": [
    "### Deep Feed Foward Model Training"
   ]
  },
  {
   "attachments": {},
   "cell_type": "markdown",
   "metadata": {},
   "source": [
    "![Alt text](images/dff.png)"
   ]
  },
  {
   "cell_type": "code",
   "execution_count": 76,
   "metadata": {},
   "outputs": [
    {
     "name": "stdout",
     "output_type": "stream",
     "text": [
      "Model: \"DFF\"\n",
      "_________________________________________________________________\n",
      " Layer (type)                Output Shape              Param #   \n",
      "=================================================================\n",
      " layer_1 (Dense)             (None, 160)               960       \n",
      "                                                                 \n",
      " layer_2 (Dense)             (None, 480)               77280     \n",
      "                                                                 \n",
      " layer_3 (Dense)             (None, 256)               123136    \n",
      "                                                                 \n",
      " layer_4 (Dense)             (None, 1)                 257       \n",
      "                                                                 \n",
      "=================================================================\n",
      "Total params: 201633 (787.63 KB)\n",
      "Trainable params: 201633 (787.63 KB)\n",
      "Non-trainable params: 0 (0.00 Byte)\n",
      "_________________________________________________________________\n"
     ]
    },
    {
     "data": {
      "text/plain": [
       "None"
      ]
     },
     "metadata": {},
     "output_type": "display_data"
    }
   ],
   "source": [
    "# Creates a linear neural network with 3 hidden layers \n",
    "L_0 = InputLayer(input_shape=(x_train.shape[1],)) # This layer can be omitted \n",
    "L_1 = Dense(units=160, kernel_initializer='normal', activation='sigmoid', name='layer_1')\n",
    "L_2 = Dense(units=480, kernel_initializer='normal', activation='sigmoid', name='layer_2')\n",
    "L_3 = Dense(units=256, kernel_initializer='normal', activation='sigmoid', name='layer_3')\n",
    "L_4 = Dense(units=1, kernel_initializer='normal', activation='linear', name='layer_4')\n",
    "\n",
    "nn_dff = Sequential([L_0, L_1, L_2, L_3, L_4], name='DFF')\n",
    "\n",
    "display(nn_dff.summary()) # The parameter counts correspond to the number of elements in the weight and bias."
   ]
  },
  {
   "cell_type": "code",
   "execution_count": 81,
   "metadata": {},
   "outputs": [
    {
     "name": "stdout",
     "output_type": "stream",
     "text": [
      "Epoch 1/10\n",
      "852/852 [==============================] - 5s 5ms/step - loss: 3667590905856.0000\n",
      "Epoch 2/10\n",
      "852/852 [==============================] - 4s 5ms/step - loss: 3503156363264.0000\n",
      "Epoch 3/10\n",
      "852/852 [==============================] - 4s 5ms/step - loss: 3502934851584.0000\n",
      "Epoch 4/10\n",
      "852/852 [==============================] - 4s 5ms/step - loss: 3504568270848.0000\n",
      "Epoch 5/10\n",
      "852/852 [==============================] - 4s 5ms/step - loss: 3506805407744.0000\n",
      "Epoch 6/10\n",
      "852/852 [==============================] - 4s 5ms/step - loss: 3505184833536.0000\n",
      "Epoch 7/10\n",
      "852/852 [==============================] - 4s 5ms/step - loss: 3507026657280.0000\n",
      "Epoch 8/10\n",
      "852/852 [==============================] - 5s 6ms/step - loss: 3507702726656.0000\n",
      "Epoch 9/10\n",
      "852/852 [==============================] - 5s 6ms/step - loss: 3502275821568.0000\n",
      "Epoch 10/10\n",
      "852/852 [==============================] - 5s 6ms/step - loss: 3506691899392.0000\n"
     ]
    }
   ],
   "source": [
    "# Defines loss function and optimizer\n",
    "nn_dff.compile( \n",
    "    loss = 'mse', # Mean squared error\n",
    "    optimizer = Adam(learning_rate=1000),\n",
    ")\n",
    "\n",
    "# Runs gradient descent and fits the weights to the data\n",
    "history = nn_dff.fit(\n",
    "    x_train,y_train,            \n",
    "    epochs=10,\n",
    "    batch_size=64,\n",
    ")"
   ]
  },
  {
   "cell_type": "code",
   "execution_count": 82,
   "metadata": {},
   "outputs": [
    {
     "name": "stdout",
     "output_type": "stream",
     "text": [
      "18/18 [==============================] - 0s 3ms/step\n",
      "(256, 1)\n",
      "Prediction on training set: \n",
      " [[4868893.]\n",
      " [4868893.]\n",
      " [4868893.]\n",
      " [4868893.]\n",
      " [4868893.]] \n",
      "\n",
      "Target values: \n",
      " [[13300000]\n",
      " [12250000]\n",
      " [12250000]\n",
      " [12215000]\n",
      " [11410000]] \n",
      "\n",
      "Model accuracy (delta <= 1e6): 0.385321\n",
      "R2 Score: -0.002988848411113798\n",
      "\n"
     ]
    }
   ],
   "source": [
    "p_dff = nn_dff.predict(x_train_norm)\n",
    "print(nn_dff.get_layer('layer_4').get_weights()[0].shape)\n",
    "print('Prediction on training set: \\n', p_dff[:5,:], '\\n')\n",
    "print('Target values: \\n', y_train_np[:5,:], '\\n')\n",
    "print('Model accuracy (delta <= 1e6): %f'%(np.mean(np.abs(p_dff - y_train_np) <= 1000000)))\n",
    "print(f'R2 Score: {r2_score(y_train_np, p_dff)}\\n')"
   ]
  },
  {
   "attachments": {},
   "cell_type": "markdown",
   "metadata": {},
   "source": [
    "### Conclusion:\n",
    "The DFF model took much more time to converge to a minimum loss in comparisson to the linear regressor model and performed poorly. The prediction for any input is the same and equal to the mean of the y_train values. This probably means that the dataset is more suitable for a linear model than ANN and I coudn't create a better model using ANN for this dataset.\n",
    "\n",
    "PS. The training didn't use all the avaliable features."
   ]
  }
 ],
 "metadata": {
  "kernelspec": {
   "display_name": ".venv",
   "language": "python",
   "name": "python3"
  },
  "language_info": {
   "codemirror_mode": {
    "name": "ipython",
    "version": 3
   },
   "file_extension": ".py",
   "mimetype": "text/x-python",
   "name": "python",
   "nbconvert_exporter": "python",
   "pygments_lexer": "ipython3",
   "version": "3.11.5"
  },
  "orig_nbformat": 4
 },
 "nbformat": 4,
 "nbformat_minor": 2
}
